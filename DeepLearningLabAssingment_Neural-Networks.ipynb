{
  "nbformat": 4,
  "nbformat_minor": 0,
  "metadata": {
    "colab": {
      "provenance": []
    },
    "kernelspec": {
      "name": "python3",
      "display_name": "Python 3"
    }
  },
  "cells": [
    {
      "cell_type": "markdown",
      "source": [
        "Name : Palak Yerawar\n",
        "\n",
        "PRN : 202201040195\n",
        "\n",
        "Batch : DL4"
      ],
      "metadata": {
        "id": "uCsiX5naeMOp"
      }
    },
    {
      "cell_type": "markdown",
      "source": [
        "#Neural Network Implementation from Scratch\n",
        "● Objective:\n",
        "Implement a simple feedforward neural network from scratch in Python without using any inbuilt deep learning libraries. This implementation will focus on basic components like forward\n",
        "pass, backward propagation (backpropagation), and training using gradient descent.\n",
        "#Problem Definition\n",
        "Dataset: XOR Dataset\n",
        "\n",
        "• The dataset consists of 4 samples, each with 2 input features (X1, X2) and 1 output label\n",
        "(Y).\n",
        "\n",
        "• Structure of the XOR dataset:\n",
        "\n",
        "X1 X2 Y(Output)\n",
        "\n",
        "0  0  1\n",
        "\n",
        "0  1  0\n",
        "\n",
        "1  0  0\n",
        "\n",
        "1  1  1\n",
        "\n",
        "XOR Logic Explanation:\n",
        "\n",
        "• The output is 0 if only one of the inputs is 1.\n",
        "\n",
        "• If both inputs are 0 or both are 1, the output is 1.\n",
        "\n",
        "• This makes the dataset non-linearly separable, meaning a simple perceptron cannot solve it.\n",
        "\n",
        "Task:\n",
        "\n",
        "The task is a binary classification problem.\n",
        "\n",
        "The neural network must learn to correctly classify XOR inputs into two categories: 0 or 1.\n",
        "\n",
        "The output neuron represents the probability of the input belonging to class 1"
      ],
      "metadata": {
        "id": "kxSnC2H0eyH1"
      }
    },
    {
      "cell_type": "markdown",
      "source": [
        "#Methodology\n",
        "1. Neural Network Architecture\n",
        "\n",
        "• The neural network consists of three layers:\n",
        "\n",
        "     – Input Layer: 2 Neurons, representing the input features.\n",
        "\n",
        "     – Hidden Layer: 4 Neurons, allowing the network to learn complex patterns.\n",
        "\n",
        "     – Output Layer: 1 Neurons, producing the final prediction.\n",
        "\n",
        "• Activation Functions Used:\n",
        "\n",
        "     – Hidden Layer: Sigmoid activation function to introduce non-linearity.\n",
        "\n",
        "     – Output Layer: Sigmoid activation function for binary classification."
      ],
      "metadata": {
        "id": "tgcLgo16hYgT"
      }
    },
    {
      "cell_type": "markdown",
      "source": [
        "#2. Forward Pass\n",
        "\n",
        "The forward pass is the process by which the input data is propagated through the network to generate an output.\n",
        "1. The input layer receives the data and passes it to the hidden layer.\n",
        "2. In the hidden layer:\n",
        "\n",
        "    – The input values are multiplied by weights and added to biases.\n",
        "\n",
        "    – The result is passed through the activation function (Sigmoid).\n",
        "3. The transformed values from the hidden layer are then passed to the output layer.\n",
        "4. The final output is computed using another set of weights, biases, and the Sigmoid\n",
        "function."
      ],
      "metadata": {
        "id": "-GHsgTV2hpTu"
      }
    },
    {
      "cell_type": "markdown",
      "source": [
        "#3. Backpropagation\n",
        "Backpropagation is used to adjust the network's weights and biases to minimize the error.\n",
        "\n",
        "1. Error Calculation: The difference between the predicted and actual values is computed.\n",
        "\n",
        "2. Gradient Computation: The error is used to determine how much each weight\n",
        "contributed to the error.\n",
        "\n",
        "3. Weight Adjustment: The gradients are used to update the weights and biases in the direction that reduces error.\n",
        "\n",
        "4. Iteration: The process is repeated multiple times to improve accuracy."
      ],
      "metadata": {
        "id": "o8Yny-y9ic6r"
      }
    },
    {
      "cell_type": "markdown",
      "source": [
        "#4. Loss Function\n",
        "\n",
        "• The loss function measures how well the neural network's predictions match the actual values.\n",
        "\n",
        "• In this case, since we are solving a binary classification problem, a common choice is\n",
        "Mean Squared Error (MSE).\n",
        "\n",
        "• Alternatively, Binary Cross-Entropy Loss is often used for better performance."
      ],
      "metadata": {
        "id": "cAmK6Sr6ii1p"
      }
    },
    {
      "cell_type": "markdown",
      "source": [
        "#5. Optimization\n",
        "\n",
        "• The Gradient Descent Algorithm is used to adjust the weights and minimize the loss.\n",
        "\n",
        "• The learning rate controls how much the weights are updated in each step:\n",
        "\n",
        "     – A high learning rate can cause the model to overshoot the optimal values.\n",
        "     – A low learning rate can slow down learning."
      ],
      "metadata": {
        "id": "jo2qtAu1isWt"
      }
    },
    {
      "cell_type": "code",
      "metadata": {
        "id": "2_vvshMhQm7m",
        "colab": {
          "base_uri": "https://localhost:8080/"
        },
        "outputId": "4251a82a-1ff2-47f5-b2f2-2f45802ffeae"
      },
      "source": [
        "import numpy as np\n",
        "\n",
        "# Sigmoid Activation Function\n",
        "def sigmoid(x):\n",
        "\n",
        "    return 1 / (1 + np.exp(-x))\n",
        "\n",
        "# Derivative of Sigmoid Activation Function\n",
        "def sigmoid_derivative(x):\n",
        "\n",
        "    return x * (1 - x)\n",
        "\n",
        "# Neural Network Class Definition\n",
        "class NeuralNetwork:\n",
        "    def __init__(self, input_size, hidden_size, output_size):\n",
        "\n",
        "        # Randomly initialize the weights and biases\n",
        "        self.input_size = input_size\n",
        "        self.hidden_size = hidden_size\n",
        "        self.output_size = output_size\n",
        "\n",
        "        # Weights and biases initialization with random values\n",
        "        self.weights_input_hidden = np.random.randn(self.input_size, self.hidden_size)  # Weights from input to hidden layer\n",
        "        self.bias_hidden = np.random.randn(1, self.hidden_size)  # Bias for hidden layer\n",
        "\n",
        "        self.weights_hidden_output = np.random.randn(self.hidden_size, self.output_size)  # Weights from hidden to output layer\n",
        "        self.bias_output = np.random.randn(1, self.output_size)  # Bias for output layer\n",
        "\n",
        "    def forward(self, X):\n",
        "\n",
        "        self.input_layer = X  # Store the input data\n",
        "\n",
        "        # Calculate the input to the hidden layer and apply the activation function\n",
        "        self.hidden_layer_input = np.dot(self.input_layer, self.weights_input_hidden) + self.bias_hidden\n",
        "        self.hidden_layer_output = sigmoid(self.hidden_layer_input)\n",
        "\n",
        "        # Calculate the input to the output layer and apply the activation function\n",
        "        self.output_layer_input = np.dot(self.hidden_layer_output, self.weights_hidden_output) + self.bias_output\n",
        "        self.output_layer_output = sigmoid(self.output_layer_input)\n",
        "\n",
        "        return self.output_layer_output\n",
        "\n",
        "    def backward(self, X, y, learning_rate):\n",
        "\n",
        "        # Compute the error in the output layer\n",
        "        error_output = y - self.output_layer_output\n",
        "\n",
        "        # Calculate the gradient (delta) for the output layer\n",
        "        output_layer_delta = error_output * sigmoid_derivative(self.output_layer_output)\n",
        "\n",
        "        # Compute the error in the hidden layer\n",
        "        error_hidden = output_layer_delta.dot(self.weights_hidden_output.T)\n",
        "\n",
        "        # Calculate the gradient (delta) for the hidden layer\n",
        "        hidden_layer_delta = error_hidden * sigmoid_derivative(self.hidden_layer_output)\n",
        "\n",
        "        # Update the weights and biases using the computed gradients\n",
        "        # Update weights from hidden to output layer\n",
        "        self.weights_hidden_output += self.hidden_layer_output.T.dot(output_layer_delta) * learning_rate\n",
        "\n",
        "        # Update bias for the output layer\n",
        "        self.bias_output += np.sum(output_layer_delta, axis=0, keepdims=True) * learning_rate\n",
        "\n",
        "        # Update weights from input to hidden layer\n",
        "        self.weights_input_hidden += X.T.dot(hidden_layer_delta) * learning_rate\n",
        "\n",
        "        # Update bias for the hidden layer\n",
        "        self.bias_hidden += np.sum(hidden_layer_delta, axis=0, keepdims=True) * learning_rate\n",
        "\n",
        "    def train(self, X, y, epochs, learning_rate):\n",
        "\n",
        "        for epoch in range(epochs):\n",
        "            # Perform a forward pass\n",
        "            self.forward(X)\n",
        "\n",
        "            # Perform a backward pass (backpropagation)\n",
        "            self.backward(X, y, learning_rate)\n",
        "\n",
        "            # Print loss (mean squared error) every 1000 epochs\n",
        "            if epoch % 1000 == 0:\n",
        "                loss = np.mean(np.square(y - self.output_layer_output))  # Mean squared error\n",
        "                print(f\"Epoch {epoch} - Loss: {loss}\")\n",
        "\n",
        "# Main Program\n",
        "if __name__ == \"__main__\":\n",
        "    # Define the XOR problem as a simple example\n",
        "    X = np.array([[0, 0], [0, 1], [1, 0], [1, 1]])  # Input data\n",
        "    y = np.array([[1], [0], [0], [1]]) #output data\n",
        "\n",
        "    # Create an instance of the NeuralNetwork class with:\n",
        "    # 2 input neurons, 4 hidden neurons, and 1 output neuron\n",
        "    nn = NeuralNetwork(input_size=2, hidden_size=4, output_size=1)\n",
        "\n",
        "    # Train the network with the XOR dataset for 10,000 epochs and a learning rate of 0.1\n",
        "    nn.train(X, y, epochs=10000, learning_rate=0.1)\n",
        "\n",
        "    # After training, print the final predictions of the network\n",
        "    print(\"\\nPredictions after training:\")\n",
        "    print(nn.forward(X))  # Test the network on the XOR inputs\n"
      ],
      "execution_count": 1,
      "outputs": [
        {
          "output_type": "stream",
          "name": "stdout",
          "text": [
            "Epoch 0 - Loss: 0.25480224590140643\n",
            "Epoch 1000 - Loss: 0.20470887717625597\n",
            "Epoch 2000 - Loss: 0.05697329946186323\n",
            "Epoch 3000 - Loss: 0.01877503001999429\n",
            "Epoch 4000 - Loss: 0.00980517052501628\n",
            "Epoch 5000 - Loss: 0.0063518338870539315\n",
            "Epoch 6000 - Loss: 0.004607970027788015\n",
            "Epoch 7000 - Loss: 0.0035784321634227947\n",
            "Epoch 8000 - Loss: 0.002906834441706453\n",
            "Epoch 9000 - Loss: 0.0024375347171088986\n",
            "\n",
            "Predictions after training:\n",
            "[[0.95891925]\n",
            " [0.04276906]\n",
            " [0.04500264]\n",
            " [0.9468125 ]]\n"
          ]
        }
      ]
    },
    {
      "cell_type": "markdown",
      "source": [
        "#Declaration:\n",
        "I, Palak Yerawar, confirm that the work submitted in this assignment is my own and has been completed following academic integrity guidelines. The code is uploaded on my GitHub repository account, and the repository link is provided below:\n",
        "\n",
        "GitHub Repository Link : https://github.com/Palak0504/Neural-Network-Implementation\n",
        "\n",
        "Signature : Palak Yerawar"
      ],
      "metadata": {
        "id": "wcICkEfPch2L"
      }
    }
  ]
}